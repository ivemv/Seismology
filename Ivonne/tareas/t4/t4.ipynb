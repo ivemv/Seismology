{
 "cells": [
  {
   "cell_type": "markdown",
   "metadata": {},
   "source": [
    "# Magnitud e Intensidad sísmica"
   ]
  },
  {
   "cell_type": "markdown",
   "metadata": {},
   "source": [
    "### La caracterización sísmica depende de dos escalas que han sido establecidas conforme a los rasgos que las controlan y su forma de calcularlas o percibirlas; escalas de magnitud e intensidad. La escala de magnitud se refiere a una cantidad cuantitativa sobre la energía liberada por el evento y es calculada con parámetros físicos y otros de la señal obtenida por los instrumentos y una serie métodos numéricos que involucran efectos sobre el registro de dicha señal, a diferencia de la escala de intensidad que toma en cuenta la percepción del ser humano frente al evento y las características físicas del medio por el cual se propagan las ondas (subsuelo e infraestructura), esto abre paso a una descripción muy subjetiva de cada evento y una mayor complejidad de clasificación, con base en una serie de descripciones, números romanos y código de colores; la escala de _Mercalli_ _(figura 1)_ es la escala de intensidad sísmica universal.\n",
    "### La escala de _Mercalli_ se generó en el siglo XIX por el físico _Giussepe Mercalli_<sup>[1]</sup> basada en la percepción de la población y daños ocasionados por los sismos, se hizo un catálogo con descripciones que permitió recabar información sobre el evento en zonas donde no existía instrumentación sísmica y clasificar doce niveles (I-XII) con los que se podía \"medir\" un sismo. Más adelante, en los años 30's _Newman_ modificó la escala de _Mercalli_ <sup>[3]</sup> añadiendo un código de colores y descripciones más concretas. A lo largo del tiempo, desde el surgimiento de la escala de intensidad, diferetes naciones han adoptado sus propias escalas, basadas a grandes rasgos en los mismos criterios.\n",
    "\n",
    "![][img]\n",
    "[img]: MERCALLI.png \"Figura 1:Escala de intensidad de Mercalli\"\n",
    "\n",
    "### La _figura 2_ muestra el mapa de intensidades reportadas por el _USGS (United States Geologic Survey)_ para el sismo del 19 de septiembre de 2017 ocurrido en Puebla, México, es notable la variedad de color en las diferentes regiones (Escala de Mercalli modificada), esto debido a la interacción de las ondas sísmicas con el medio e infraestructura -_efecto de sitio_- de las zonas proximales-medias-distales que puede amplificar o disminuir la amplitud de las ondas. El _efecto de sitio_ depende de factores diversos que comprenden: distancia del hipo y epicentro, tipo de sustrato; roca firme o sedimentos suaves, presencia de agua o fracturas preexistentes etc., tipo de infraestrctura; altura de las construcciones, cimientos, ingeniería sísmica (amortiguadores, disipadores, etc.), material e interacción entre construcciones. Debido a los factores enlistados se puede apreciar que a distancias mayores del hipocentro la intensidad del sismo puede ser mayor que en zonas proximales o bien, aumentar en lugar de atenuarse, debido al efecto de sitio. Por lo tanto, como resultado de la diversidad geológica e infraestructura urbana el efecto de sitio se ve reflejado en los mapas de intensidad publicados para éste y todos los eventos en cuestión.\n",
    "\n",
    "![][img1]\n",
    "[img1]: usgs.png \"Figura 2: Mapa de intensidades sismo 19/09/17 USGS \"\n",
    "\n",
    "### Por otra parte, las escalas de magnitud que son de carácter cuantitativo, requieren valores específicos obtenidos apartir de la instrumentación, en 1935 Charles Richter implementó la primera escala de magnitud sísmica: **magnitud de Richter o local** ( ${M}_L$).  Es una medida del tamaño de un terremoto, determinada para períodos cortos y a distancias relativamente pequeñas, a partir de registros de un sismógrafo de torsión Wood-Anderson<sup>[6]</sup>, su idea básica era bastante simple: conociendo la distancia desde un sismógrafo hasta un terremoto y observando la máxima amplitud de señal registrada en el sismógrafo, se podía hacer una clasificación cuantitativa empírica del tamaño o la fuerza inherente del terremoto. Richter sugería que la froma correcta del cálculo de la ${M}_L$ era através de un promedio de las magnitudes calculadas por separado para las tres componentes de la estación siguiendo la misma metodología, incluso promediando cálculos entre estaciones para obtener mayor cobertura. La mayoría de los terremotos de California ocurren dentro de los primeros 16 km de la corteza; para una primera aproximación, las correcciones para las variaciones en la profundidad focal del terremoto fueron, por lo tanto, innecesarias.<sup>[6]</sup>. La ${M}_L$ se calcula como:\n",
    "$ {M}_L = {log}_{10} (A) - {log}_{10}({A}_0(\\Delta) $ (Richter, 1935, 1958)\n",
    "\n",
    "#### Donde:\n",
    "### A es la mayor amplitud de la onda (de cuerpo o superficial) medida en milímetros\n",
    "### ${A}_0$ es el factor de amplitud deducido empíricamente y dependiente de la distancia para un terremoto particular tomado como «terremoto patrón»<sup>[2]</sup>.\n",
    "\n",
    "### La magnitud de Richter resultó muy eficiente para la cuantificación de la energía liberada para sismos locales apesar de tener las condicionantes de instrumentación y un rango limitado de magnitudes: 2 a >/= 8, cabe mencionar que el cálculo de ésta magnitud está basado en una escala logarítmica con fines de representar las magnitudes de forma más real; entre una magnitud 2 y una magnitud 3 hay un incremento de diez veces en la amplitud de onda, y por cada unidad que se aumenta en la escala (representada por números enteros), la energía liberada incrementa 32 veces.\n",
    "### Debido a que se encontraron más contras que puntos en pro de la magnitud de Richter ya que representaba una gran limitación en cuanto a instrumentos y alcance en distancia, en los años siguientes se desarrollaron otras magnitudes como: ${M}_b$ (Magnitud de ondas de cuerpo _body waves_), ${M}_s$ (Magnitud de ondas superficiales) y ${M}_c$ (Magnitud de coda) que se calculan apartir de la señal, es decir, dependen de la amplitud de las ondas registradas. En cambio, existen dos magnitudes que no dependen de la amplitud se la señal: ${M}_e$ (Magnitud de energía) y ${M}_w$ (Magnitud momento), ésta última ha obtenido gran auge en los últimos 20 años ya que garantiza de otra forma el cálculo de magnitud con mayor presición sin importar el tipo de instrumentación o la distancia al epicentro. Actualmente puede calcularse magnitud local introduciendo en la ecuación uno o varios términos que tomen en cuenta la atenuación de las ondas conforme a la distancia y el medio, y corrección instrumental. \n",
    "\n",
    "## Magnitud de ondas de cuerpo ${M}_b$\n",
    "\n",
    "### El cálculo de la ${M}_b$ se hace a partir de la amplitud máxima registrada por la onda P o S con periodos cercanos a un segundo <sup>[1]</sup>, se calcula con la siguiente expresión:\n",
    "$ {M}_b = {log}_{10} (\\frac{A}{T}) + Q(D,h) $\n",
    "#### Donde:\n",
    "### A es la amplitud de la onda elegida en micrones\n",
    "### T es es periodo (en segundos)\n",
    "### Q(D,h) es el factor de corrección en función de la distancia _D_ (en grados) entre el epicentro y la estación y la profundidad focal _h_ (en kilómetros)<sup>[6]</sup>.\n",
    "\n",
    "## Magnitud de ondas superficiales ${M}_s$\n",
    "\n",
    "### Al igual que la ${M}_b$, la magnitud de ondas superficiales se calcula tomando la amplitud máxima de una de las ondas superficiales (_Rayleigh_) con periodo dentro del rango 18-22 s, se calcula:\n",
    "${M}_s = {log}_{10} (\\frac{A}{T}) + 1.66 {log}_{10}(D) + 3.30 $\n",
    "\n",
    "#### Donde:\n",
    "### A es la amplitud de la onda _Rayleigh_ (en su componente horizontal) en micrómetros\n",
    "### T es el periodo en segundos\n",
    "### D es la distancia de la estación al epicentro en grados\n",
    "\n",
    "## Magnitud de coda ${M}_c$\n",
    "\n",
    "### Esta magnitud se obtiene a partir de la duración del registro sísmico (i.e., del sismograma). La coda de un sismograma corresponde a la parte tardía de la señal que decrece monotónicamente conforme pasa el tiempo hasta alcanzar su nivel original, previo al sismo. La duración de la coda es proporcional al tamaño del sismo, aunque puede verse afectada por otros factores, como lo es la naturaleza del suelo en el que se encuentra la estación<sup>[5]</sup>.\n",
    "\n",
    "## Magnitud de energía ${M}_e$\n",
    "### El cálculo de ésta magnitud es proporcional a la energía irradiada por el evento y al daño potencial causado a las estructuras, debido a limitantes instrumentales, la mayoría de cálculos de energía han dependido históricamente de la relación empírica desarrollada por Beno Gutenberg y Charles Richter<sup>[1]</sup>:\n",
    "$ {log}_{10} E = 11.8 + 1.5 {M}_s$\n",
    "#### Donde\n",
    "### E es la energía expresada en 'ergios' ( 10 <sup>-7</sup> joules)\n",
    "### ${M}_s$ es la magnitud de ondas superficiales\n",
    "\n",
    "### y entonces, la ${M}_e$ se puede definir:\n",
    "$ {M}_e = 2/3 {log}_{10}E -2.9 $\n",
    "\n",
    "## Magnitud momento ${M}_w$\n",
    "\n",
    "### La ${M}_w$ fue propuesta por Kanamori y otros a partir de los años 70's con el fin de obtener magnitudes más certeras con una metodología distinta que pudiese ser aplicada a sismos grandes y pequeños sin importar el efecto de atenuación de la señal o la instrumentación empleada, ésta se calcula con el momento sísmico que es proporcional al área de ruptura de la falla, el momento sísmico:\n",
    "$ Mo = \\mu S d $\n",
    "#### Donde\n",
    "### $\\mu$ es la resistencia al corte del bloque de roca en dinas/cm<sup>2</sup>\n",
    "### S es el área de la falla que sufrió la ruptura, en centímetros cuadrados\n",
    "### d el desplazamiento promedio de la falla en centímetros\n",
    "\n",
    "### a partir de $Mo$ se define:\n",
    "$ {M}_w = 2/3 {log}_{10} Mo - 10.7 $\n",
    "### Cabe mencionar, que una más de las ventajas de la magnitud momento es que sobrepasa el rango de magnitud que pueden calcular las demás escalas, por ejemplo, la $ {M}_s $ solamente es precisa calculando magnitudes menores a 6.5-6.8.\n",
    "### Aunque Mw y Me son ambas magnitudes, describen diferentes propiedades físicas del terremoto. Mw, calculado a partir de datos sísmicos de baja frecuencia, es una medida del área rota por un terremoto. Me, calculado a partir de datos sísmicos de alta frecuencia, es una medida del potencial sísmico para el daño. En consecuencia, Mw y Me a menudo no tienen el mismo valor numérico<sup>[6]</sup>. En México, el SSN (Servicio Sismológico Nacional) resporta magnitudes de coda para sismos menores a 4.5 y para sismos   mayores   de   4.5,   con   epicentros   en   Guerrero,   se   usan   la Magnitud de energía, para sismos de magnitud mayor de 4.5, en general, se reporta la Magnitud de momento<sup>[5]</sup>."
   ]
  },
  {
   "cell_type": "markdown",
   "metadata": {},
   "source": [
    "### Bibliografía\n",
    "\n",
    "+ [1] _Escalas de Magnitud_ (s/f) Disponible en: http://www.snet.gob.sv/ver/seccion+educativa/sismologia/escalas+de+magnitud/ Consultado: 1/03/18\n",
    "+ [2] Espinosa, A. (s/f) _5.Determinación de la magnitud Local ${M}_L$ a partir de acelerogramas de movimientos fuertes en el suelo._ USGS, Denver, Colorado.\n",
    "+ [3] Ministerio de Medio Ambiente y Recursos Naturales (2013) _Escala de Intensidad de Mercalli Modificada_ Disponible en: http://www.marn.gob.sv/escala-de-intensidad-mercalli-modificada-mm/ Consultado: 01/03/18\n",
    "+ [4] SGM _Escalas de los Sismos_ (s/f) Disponible en: https://www.sgm.gob.mx/Web/MuseoVirtual/Informacion_complementaria/Escalas-sismos.html Consultado: 1/03/18\n",
    "+ [5] SSN UNAM (s/f) _Magnitud de un sismo_ Disponible en: http://www.ssn.unam.mx/jsp/reportesEspeciales/Magnitud-de-un-sismo.pdf Consultado: 01/03/18\n",
    "+ [6] USGS _Measuring the size of an Earthquake_ Disponible: https://earthquake.usgs.gov/learn/topics/measure.php Consultado: 01/03/18\n",
    "+ http://contenidos.inpres.gov.ar/docs/C%C3%A1lculo%20de%20la%20Magnitud.pdf"
   ]
  }
 ],
 "metadata": {
  "kernelspec": {
   "display_name": "Julia 0.6.2",
   "language": "julia",
   "name": "julia-0.6"
  },
  "language_info": {
   "file_extension": ".jl",
   "mimetype": "application/julia",
   "name": "julia",
   "version": "0.6.2"
  }
 },
 "nbformat": 4,
 "nbformat_minor": 2
}
