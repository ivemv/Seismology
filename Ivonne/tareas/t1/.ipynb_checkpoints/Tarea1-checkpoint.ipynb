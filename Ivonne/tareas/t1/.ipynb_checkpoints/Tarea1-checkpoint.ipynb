{
 "cells": [
  {
   "cell_type": "markdown",
   "metadata": {},
   "source": [
    "![][img]\n",
    "[img]: unam"
   ]
  },
  {
   "cell_type": "markdown",
   "metadata": {},
   "source": [
    "# |                    Universidad Nacional Autónoma de México  |\n",
    "## Facultad de Ciencias UMDI Juriquilla\n",
    "## Sismología I\n",
    "## _Sismología: origen, historia; causas y consecuencias_\n",
    "## Dr. Víctor H. Márquez Ramírez\n",
    "# Martínez Valdés Judith Ivonne"
   ]
  },
  {
   "cell_type": "markdown",
   "metadata": {},
   "source": [
    "## Sismología: origen e historia\n",
    "### El término sismología se define por su raíz griega _seismos_ (sismos) y _logos_ (estudio de) lo que resulta en \"el estudio de los sismos\", a su vez, exiten diversas definiciones de la palabra \"sismo\" que conceptualizan los eventos tectónicos más comunes y perceptibles ocacionados por la interacción de placas tectónicas, un ejemplo es:  _\"los sismos son perturbaciones súbitas en el interior de la tierra que dan origen a vibraciones o movimientos del suelo; la causa principal y responsable de la mayoría de los sismos   (grandes y pequeños) es la ruptura y fractura de las rocas en las capas mas externas de la corteza terrestre.\"_<sup>[8]</sup> o bien _\"En el interior de la tierra ocurre un fractura súbita cuando la energía acumulada excede la resistencia de las rocas. Al ocurrir la ruptura, se propagan (en el interior de la tierra) una serie de ondas sísmicas que al llegar a la superficie sentimos como un temblor. Generalmente, los sismos ocurren en zonas de debilidad de la corteza terrestre que se conocen como fallas geológicas.\"_<sup>[8]</sup>. Actualmente la definición de sismo o terremoto engloba otras fuentes además del movimiento de fallas geológicas, dividido en fuentes naturales como: actividad volcánica, procesos superficiales (ríos, avalanchas, flujos, caída de rocas, etc.) y fuentes antropogénicas como por ejemplo explosiones nucleares. Por lo tanto, una definición más general de \"sismo\" sería: liberación súbita de energía que se propaga por medio de ondas elásticas.\n",
    "\n",
    "### Cabe destacar que un evento de este tipo puede ser llamado \"sismo\" ,\" temblor\" o \"terremoto\", términos que tienen el mismo significado, con diferentes gramática aunque socialmente la palabra \"terremoto\" se asocia a os eventos más intensos, \"sismo\" a los eventos moderados y \"temblor\" como eventos apenas perceptibles. Incluso, las definiciones en fuentes científicas determinan estas palabras como sinónimos: _\"Un terremoto es la vibración de la Tierra producida por una rápida liberación de energía.\"_<sup>[10]</sup>.\n",
    "### Históricamente, la sismología como ciencia tiene precedente en a documentación cientifica de un evento catastrófico ocurrido en el siglo XVIII en Portugal, Lisboa donde J. Mitchelle propuso que el movimiento fue causado por la propagación de ondas de una fuente distante y que esas ondas eran similares a las producidas por el sonido en el aire <sup>[3]</sup>.  Por otra parte, más atrás en la historia, diversas culturas de todo el mundo atribuyeron los eventos de acuerdo a sus creencias, por ejemplo: en el siglo XIV, dentro de la mitología mexica se reconoció a _Tepeyóllotl_ (en náhuatl: tepeyollotl, ‘corazón del monte’ ‘tépetl, monte, montaña, cerro; yóllotl, corazón’), como el dios de las montañas, de los ecos y de los temblores tambien el patrono de los jaguares _(Figura 1)_ tomando en cuenta el grado de sismicidad activa que tiene ésta región. Fácilmente, en regiones donde los sismos son comunes se desarrollaron etse tipo de leyendas, otro ejemplo a resaltar es el caso de la isla de Japón donde se marcó un precedente de caracter mítico donde se atribuía el movimiento del suelo a la presencia de un siluro gigante -_Namazu_- que vivía en el fondo marino y era custodiado por el guardián Kami Kashima que trataba de inmovilizarlo con una gran roca pero cuando el guardián se descuidaba, _Namazu_ se movía y producía terremotos<sup>[5]</sup>. Esta leyenda surió transformaciones con el tiempo y la percepción de la gente que convirtió al siluro de un demonio a un mensajero de los eventos sísmicos y actualmente es utilizada su imagen para señalamientos de rutas de evacuación en Japón.\n",
    "### Un antecedente asiático importante por resaltar es el precedente de la instrumencación sísmica Zhang Heng, un famoso astrónomo chino que diseñó un detector de terremotos en el siglo II, el objeto consistía en un jarrón de bronce que sostiene es su superficie seis cabezas de dragón con una pelota de bronce en su boca, debajo de cada cabeza de dragón se encontraban sapos con la boca abierta para \"recibir\" la bola, todo hecho de bronce. Si un sismo ocurría, además de ser detectato por la caída de la pelota, se podía saber la dirección de procedencia, en poco tiempo pudo ser comprovada su eficacia cuando una pelota de bronce cayó sin que hubiese percepción alguna de movimiento, días después se informó de un terremoto ocurrido a aproximádamente 600km del sitio.\n"
   ]
  },
  {
   "cell_type": "markdown",
   "metadata": {},
   "source": [
    "![Imagen 1][1]\n",
    "[1]: tez.jpg \"Figura 1: Tepeyollotl, corazón del monte/montaña.\""
   ]
  },
  {
   "cell_type": "markdown",
   "metadata": {},
   "source": [
    "### Partiendo de los conceptos de sismo y sismología anteriores al presente siglo, la organización de Instituciones de Investigación Incorporadas para Sismología (_IRIS_  por sus siglas en inglés: _Incorporated Research Institutions for Seismology_) documentó en una línea del tiempo (_Figura 2_) los acontecimeintos más importantes para la sismología ya como ciencia establecida. Que comienza en el siglo XVII con la publicación de la Teoría de la elasticidad de Robert Hooke, un antecedente fundamental para el desarrollo del tratamiento, análisis y comprensión de los eventos sísmicos, para noviembre de 1755 se documenta el sismo ya mencionado de Lisboa y la propuesta del científico J. Mitchelle; sobre el entendimiento básico de la propagación de energía, el año de 1830 resalta por el desarrollo matemático de las ecuaciones de elasticidad por Navier y Cauchy, y el descubrimiento de dos ondas elásticas, después conocidas como ondas de cuerpo: P y S publicado por Poisson, en 1857 Robert Mallet inventa el término \"sismología\" y es considerado como el primer sismólogo por sus aportaciones de mapeo, entre otras cosas. A finales de 1800 John Milne trabaja en la Universidad Imperial de Tokyo, implementa el uso del sismograma y promueve la institución de una red sísmica mundial, en 1899 se detecta el primer telesismo en Japón, evento ocurrido en Alemania, para abril de 1906 la ciudad de San Francisco es debastada por un gran sismo debido al movimiento de la falla de San Andrés y se formula la teoría del rebote elástico por H.F. Reid y G.K. Gilbert, 17 años después otro sismo catastrófico sacude Japón, este hecho comprobó la predicción que F. Omori había hecho un año antes, pues \"últimamente a esa fecha, la regió de Tokyo estaba sísmicamente tranquila y un terremoto podría ocurrir pronto\", en los 1930's Igne Lehmann descubre que el núcleo interno está compuesto de material sólido apartir del análisis de un perfil de velocidades; donde a cierta distancia la velocidad de las ondas incrementa debido a un cambio de medio, en 1935 Charles Richter desarrolla su escala de magnitud para poder cuantificar los sismos de California, el 16de julio de 1945 ocurre el atentado de Hiroshima que pudo ser registrado gracias a la estación sísmica en Tucson, en 1960 ocurre el sismo más grande y debastador registrado en la historia: Santiago de Chile, magnitud 9.5 que provocó la vibración de la tierra durante años y el registro sísmico pudo ser utilizado para detallar la estructura interna de la tierra, cinco años más tarde J. Wilson descubre y esquematiza la existencia de fallas transformantes, en julio de 1976 ocurre el sismo con el saldo de muertes más alto del siglo XX en China debido al movimiento de una falla de rumbo. A partir de los años 80's el desarrollo de la tecnología tanto de instrumentación como análisis de datos ha permitido la profundización de esta ciencia desde el mapeo del interior de la tierra, su superficie, ocurrencia y distribución sísmica hasta sistemas de alerta temprana.\n",
    "\n",
    "![Imagen 2][2]\n",
    "[2]: hs.jpg \"Figura 2: Línea del tiempo de la Sismología [7]\""
   ]
  },
  {
   "cell_type": "markdown",
   "metadata": {},
   "source": [
    "### Después de los acontecimientos mencionados, apartir del siglo XXI han ocurrido grandes avances en instrumentación pero también en el uso de las señales, desde el inicio en definición de sismología en diferentes escuelas se tienen contempladas un par de fuentes externas para el registro sísmico como la actividad volcánica y, después de ser necesario (en las guerras mundiales) ataques nucleares, pero originalmente las señales percibidas por los intrumentos, que fuesen ajenas a esos eventos eran llamadas \"_ruido ambiental_\" y se desechaban, despúes de la década 2010 fue estudiado el registro de estas señales y se reconoció la utilidad del \"_ruido ambiental_\" <sup>[4]</sup> para estudiar sismos ambientales: sismicidad poducida por procesos superficiales que permite el registro y caracterización de estos eventos, más allá permite el monitoreo y mitigación de peligros naturales comunes, así se incorpora una rama de la sismología, la Sismología Ambiental."
   ]
  },
  {
   "cell_type": "markdown",
   "metadata": {},
   "source": [
    "## Causas\n",
    "### Se ha mencionado implícitamente las causas o fuentes de la actividad sísmica, fuentes naturales: eventos tectónicos, actividad volcánica, procesos superficiales y fuentes antropogénicas. La primera natural causa por eventos tecónicos tiene explicación en la formulación de la Teoría de la Tectónica de Placas que tiene origen en 1915 cuando Alfred Wegener postula su idea de la deriva continental, basado en la forma de los continentes y cómo encajan, el concepto moderno de placas tectónicas móviles fue propuesto en 1962 por Harry H. Hess, de la Universidad de Princeton <sup>[2]</sup>. La Tectónica de Placas es una teoría unificadora que explica una variedad de características y acontecimientos geológicos. Se basa en un sencillo modelo de la Tierra que expone que la rígida litosfera se encuentra fragmentada, formando un mosaico de numerosas piezas de diversos tamaños en movimiento llamadas placas, que encajan entre si y varían en grosor según su composición ya sea corteza oceánica, continental o mixta<sup>[9]</sup>. La explicación del movimiento de dichas placas va de la mano con la teoría de convección del manto, que es el motor de la dinámica terrestre: este movimiento diferencial permite la creación  y \"destrucción\" de corteza: dorsales oceánicas, puntos calientes y zonas de subducción respectivamente, éstas últimas fueron las primeras en ser identificadas por densidad de eventos sísmicos antes de saberse su existencia (mapeo de Robert Mallet en 1857). Entonces, basados en ésta teoría que explica los mecanismos por los cuales se transforma la superficie terrestre en función de los procesos internos, sabemos que existen zonas de colisión (placa continental-continental) que forman grandes cadenas montañosas y a su vez, producen alta actividad sísmica debido a la interacción entre dichas placas, acumulación y liberación de esfuerzos, otro caso es el de zonas de subducción donde las placas oceánicas se hunden por debajo de las continentales o bien por debajo de otra placa oceánica de menor densidad que ella, este tipo de interacción es el que procude mayor sismicidad tectónica perceptible y tiene una distribución geográfica característica conocida como el \"anillo de fuego\" del pacífico (_Figura 3_), aunque hay otras zonas del mundo donde también existe subducción y no menos actividad sísmica.\n"
   ]
  },
  {
   "cell_type": "markdown",
   "metadata": {},
   "source": [
    "![Imagen 3][3]\n",
    "[3]: tp.jpg \"Figura 3: Anillo de fuego del pacífico: zonificación de ocurrencia sísmica tectónica [6]\""
   ]
  },
  {
   "cell_type": "markdown",
   "metadata": {},
   "source": [
    "### Dentro de las fuentes naturales, se encuentra la acividad volcánica, una fuente compleja ya que tiene lugar en procesos internos y externos y se ve influenciada por la tectónica y por procesos superficiales, se han identificado diferentes tipos de sismos volcánicos en función de sus caracteristicas temporales y espectrales: VT (volcano-tectónicos), tremor, LP (Long Period: periodo largo), híbrido, los superficiales: señales de lahares  y producidos por corrientes piroclásticas de densidad, éstos dos últimos entran en el campo de los procesos superficiales estudiados por la sismología ambiental que engloba además: cauce de ríos, movimientos en masa (deslizamientos, caída de rocas, flujos de detritos...), eventos hidrometeorológicos (tormentas, tornados, rompimiento/colapso de glaciares) etc. Además podemos agregar a la lista impactos meteoríticos. Finalmente, las causas antropogénicas son igual de diversas y complejas pero dentro de las más estudiadas se encuentran: explotación de recursos (minería, fracking, agua..), pruebas nucleares, construcciones etc."
   ]
  },
  {
   "cell_type": "markdown",
   "metadata": {},
   "source": [
    "## Consecuencias\n",
    "### Existen efectos primarios y secundiarios que causan los eventos sismicos de grandes magnitudes, las principales consecuencias de los sismos clásicos (tectónicos) o bien, efectos primarios de carácter natural son: pérdidas humanas, destrucción de estructuras, ruptura de tuberías, tsunamis, réplicas que por sí mismas también son fuente de desastre, las consecuencias secundarias pueden subdividirse en naturales, pol´iticas y sociales, de carácter natural son generalmente eventos inducidos (deslizamientos, inundaciones, incendios, licuefacción de suelos (?), avalanchas, sepultamientos, hundimientos, etc.), plagas, político-social: pérdida o detención de actividades económicas, desempleo, enfermedades, carencia de recursos, entre muchos otros.\n",
    "### Los sismos volcánicos suelen tener consecuencias primarias o bien, ser percibidos en escala local cuando se trata de un precedente de actividad importante, los efectos secundarios se enlistan como la modificación estructural de la zona y transformación a probables sitios inestables, raramente los sismos volcánicos en sí tienen implicaciones políticas y/o sociales puesto que depende de su magnitud el impacto que tendrá, los sismos geomorfológicos o ambientales no producen daño propiamente como propagación de energía, lo que produce daño es el evento en cuestión.\n",
    "### Cabe destacar que las consecuencias; primarias y secundarias, ya sean naturales, sociales o políticas tedrán efecto a diferentes escalas de tiempo en función de la magnitud del evento, suceptibilidad de la población, resiliencia y estado de desarrollo de la zona del evento. Históricamente han habido zonas que no se han recuperado de los sismos coo el caso de L'Aquila en Italia después de un sismo debastador en el 2009 además de las pérdidas humanas y destrucción de la zona habitacional, generó una gran desestabilidad económica de la población, migración, entre otras. El ejemplo más claro es el sismo del 19 de septiembre del 1985 que causó muchos daños en varios estados de la República Mexicana como Guerrero, Michoacán Ciudad de México etc., los cuales hasta la fecha no han sido reparados en su totalidad y los efectos económicos y sociales prevalecen sin tomar en cuenta los daños registrados por el sismo de la misma fecha pero del año 2018."
   ]
  },
  {
   "cell_type": "markdown",
   "metadata": {},
   "source": [
    "![Imagen 4][4]\n",
    "[4]: cn.JPG \"Las consecuencias del terremoto que afectó al sur de México [1]\""
   ]
  },
  {
   "cell_type": "markdown",
   "metadata": {},
   "source": [
    "### Bibliografía\n",
    "+ [1] 24horas (s/f) _Las consecuencias del terremoto que afectó al sur de México_ Disponible: http://www.24horas.cl/internacional/las-consecuencias-del-terremoto-que-afecto-al-sur-de-mexico-2499701# Consultado: 11/02/18\n",
    "+ [2] Graham, C. (2014)_Breve historia de la Teoría de l Tectónica de Placas_ Disponible: https://www.investigacionyciencia.es/revistas/investigacion-y-ciencia/el-mar-514/breve-historia-de-la-tectnica-de-placas-8267 Consultado: 11/02/18\n",
    "+ [3] _History of Seismology_ (s/f) Disponible: https://www.iris.edu/hq/inclass/poster/history_of_seismology Consultado: 08/02/18\n",
    "+ [4] Larose, E. et al. (2015) _Environmental seismology: What can we learn on earth surface processes with ambient noise?_ Journal of Applied Geophysics 116, 62–74.\n",
    "+ [5] _Los Animales y la Cultura Japonesa_ (13/06/05) Disponible: http://web-japan.org/nipponia/nipponia33/es/animal/animal01.html Consultado: 11/02/18\n",
    "+ [6] Muy Interesante México (24/08/16) _¿Cuáles son las zonas del mundo con mayor actividad sísmica?_ Disponible: http://www.muyinteresante.com.mx/naturaleza/16/08/24/zonas-actividad-sismica-mundial/ Consultado: 10/02/18\n",
    "+ [7] _Posters_ (s/f) Disponible: http://www.iris.edu/hq/inclass/posters Consultado: 11/02/18\n",
    "+ Saunders, N. (2013) _Icons of Power: Feline Symbolism in the Americas_ [en línea] Disponible: https://books.google.com.mx/books?id=jws5HECypOAC&dq=tepeyollotl&hl=es&source=gbs_navlinks_s Consultado: 11/02/18\n",
    "+ [8] _Sismología_ (s/f) Disponible: http://www.um.edu.ar/um/fau/estructura5.old/SISMOLOGIA.htm Consultado: 10/02/18\n",
    "+ [9] SGM (22/03/17) _Teoría de la Tectónica de Placas_ Disponible: https://www.sgm.gob.mx/Web/MuseoVirtual/Riesgos-geologicos/Tectonica-de-placas.html Consultado: 11/02/18\n",
    "+ [10] Tarbuck et al. (2005) _Introducción a las Ciencias de la Tierra_ Madrid. Pearson pp.307-340"
   ]
  },
  {
   "cell_type": "markdown",
   "metadata": {
    "collapsed": true
   },
   "source": [
    "\n",
    "### Material extra jeje\n",
    "+ http://www.iris.edu/hq/files/programs/education_and_outreach/aotm/8/Seismograph_Background.pdf\n",
    "+ https://www.iris.edu/hq/inclass/animation/plate_tectonic_theorya_brief_history\n",
    "+ http://www.iris.edu/hq/inclass/uploads/CenturyofEarthquakes_medres.jpg\n",
    "+ http://ds.iris.edu/seismo-archives/info/publications/Lee1988.pdf\n",
    "+ http://contenidos.inpres.gov.ar/docs/Historia%20de%20la%20Sismolog%C3%ADa.pdf\n",
    "+ http://www.cires.org.mx/docs_info/CIRES_006.pdf\n",
    "+ https://www.sgm.gob.mx/Web/MuseoVirtual/Riesgos-geologicos/Sismologia-de-Mexico.html\n",
    "+ https://www.xing.com/communities/posts/sismologia-definicion-y-conceptos-relacionados-1002891598\n",
    "+ http://rsn.ucr.ac.cr/documentos/educativos/sismologia/3669-que-es-un-sismo\n",
    "+ "
   ]
  },
  {
   "cell_type": "code",
   "execution_count": null,
   "metadata": {
    "collapsed": true
   },
   "outputs": [],
   "source": []
  }
 ],
 "metadata": {
  "kernelspec": {
   "display_name": "Julia 0.6.2",
   "language": "julia",
   "name": "julia-0.6"
  },
  "language_info": {
   "file_extension": ".jl",
   "mimetype": "application/julia",
   "name": "julia",
   "version": "0.6.2"
  }
 },
 "nbformat": 4,
 "nbformat_minor": 2
}
