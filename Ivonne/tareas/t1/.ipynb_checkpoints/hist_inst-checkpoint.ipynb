{
 "cells": [
  {
   "cell_type": "markdown",
   "metadata": {},
   "source": [
    "# Historia de la instrumentación sísmica"
   ]
  },
  {
   "cell_type": "markdown",
   "metadata": {},
   "source": [
    "* 132 AD Zhang Heng: Sismoscopio\n",
    "* 1795 Ascanio Filomarino: \n",
    "* 1856 Luigi Palmeri: \n",
    "* 1875 John Milne: sismógrafo de registro horizontal para eventos locales\n",
    "* 1904 E. Weichert: sensor de péndulo invertido\n",
    "* 1906 B.B Golicyn: sensores electrodinámicos y registro fotográfico de galvanometros para crear instrumentos con mayor sensibilidad y presición.\n",
    "* ~1920: fortalecimiento de instrumentación y tecnología en ciertos sectores del mundo (principalmente europa) debido a la primera guerra mundial.\n",
    "* 1920's H.O. Wood y J.A. Aderson: sismómetro electromagnético _Wood-Anderson_.\n",
    "* 1927 J. Wadati: revolución en la instrumentación a partir de la diferenciacion de sismos profundos y someros (sensibilidad instrumental).\n",
    "* 40's-50's avances en investigación de ondas superficiales y la estructura interna de la tierra.\n",
    "* 1963 VELA-UNIFORM: programa de creación estadounidense con fines de profundizar en el análisis sísmico, grandes aportes a la intrumentación por medio del _WWSSN_ (World Wide Standard Seismograph Network).\n",
    "* 19060's: implementación de instrumentos eléctricos.\n",
    "![][img1]\n",
    "[img1]: zh.jpg \"Seismoscope Zhang Heng 132 AD Source: https://images-na.ssl-images-amazon.com/images/I/71BtJU46KeL.jpg\""
   ]
  },
  {
   "cell_type": "markdown",
   "metadata": {},
   "source": [
    "## Historia de la intrumentación sísmica en México\n",
    "* 1910: Servicio Sismológico Nacional (Observatorio de Tacubaya), Sismógrafo _Weichert_ de periodo corto.\n",
    "* 1960: Instituto de Ingeniería UNAM, Acelerógrafos Akashi SMAC B (Instalados en la Alameda central y en Ciudad Universitaria).\n",
    "* ~1965: 3 acelerografos AR-240 (Tlatelolco, Acapulco, presa el Infiernillo).\n",
    "* 1970's: 25 instrumentos de tipo SAMC B, AR-240 y RFT-250, aparición del acelerógrafo SMA-1 de tipo fotográfico; grandes avances en ingeniería sísmica, implementacion de estaciones en toda la costa pacífica del país.\n",
    "* 1972: Instituto de Ingeniería UNAM; red telesísmica (SISMEX) actualmente operando.\n",
    "* 1980's: mayor cobertura de estaciones (~80) en las zonas sísmicas del país, inicio de una etapa de nueva instrumentación: dispositivos electrónicos.\n",
    "* 1983: 39 acelerógraos digitales operando, incrementa el número a 70 para 1985.\n",
    "* 1985: parteaguas en la necesidad de instrumentación sísmica: convenio San Diego, California- México (anterior al evento del 19 de septiembre) para la instalación de una red digital de sismógrafos en la costa Guerrero-Michoacán, gracias a la red se obtuvieron catálogos muy extensos sobre el sismo.\n",
    "* ~1991: se cuenta con 120 estaciones de registro en la Ciudad de México casi todas digitales, cerca de 300 estaciones a nivel nacional. 2500 registros digitales de sismos entre magnitud 3 y 8.1 desde la operación de la red en 1960: México se sitúa entre los países con mayor instrumentación sísmica."
   ]
  },
  {
   "cell_type": "markdown",
   "metadata": {},
   "source": [
    "### Referencias\n",
    "+ http://www.iris.edu/hq/files/programs/education_and_outreach/aotm/8/Seismograph_Background.pdf\n",
    "+ http://cidbimena.desastres.hn/docum/crid/Abril-Mayo2005/CD1/pdf/spa/doc2110/doc2110-contenido.pdf\n",
    "+ https://igppweb.ucsd.edu/~agnew/Pubs/agnew.a66.pdf\n",
    "+ https://link.springer.com/referenceworkentry/10.1007%2F0-387-30752-4_126\n",
    "#### aún no leo:\n",
    "+ https://pubs.geoscienceworld.org/ssa/bssa/article-abstract/59/1/183/101553"
   ]
  },
  {
   "cell_type": "code",
   "execution_count": null,
   "metadata": {},
   "outputs": [],
   "source": []
  }
 ],
 "metadata": {
  "kernelspec": {
   "display_name": "Julia 0.6.2",
   "language": "julia",
   "name": "julia-0.6"
  },
  "language_info": {
   "file_extension": ".jl",
   "mimetype": "application/julia",
   "name": "julia",
   "version": "0.6.2"
  }
 },
 "nbformat": 4,
 "nbformat_minor": 2
}
