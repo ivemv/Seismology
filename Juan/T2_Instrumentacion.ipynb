{
 "cells": [
  {
   "cell_type": "markdown",
   "metadata": {},
   "source": [
    "## Tarea 2: Instrumentación\n",
    "\n",
    "#### Sismoscopio Chang - Heng \n",
    "(130 d.C). es el primer sismógrafo conocido, consistía en una vasija de bronce que contenía seis bolas en equilibrio en las bocas de seis dragones situados alrededor de la vasija. En caso de que alguna de las bolas caía en la boca de los dragones al interior de las ranas, se sabía que había habido un onda sísmica. \n",
    "\n",
    "#### Sismoscopio de Jean de Hautefeuille\n",
    "(1703)Es un intrumento construido en madera con una base circular en el centro, de un pedestal, con un diámetro interno de\n",
    "aproximadamente 12 centímetros. En su parte superior contenía mercurio, con ocho pequeñas canaletas en su flanco,debajo de cada una de estas canaletas hay ocho envases pequeños fijados a la base que son utilizados para recoger el mercurio que se vierte ante un terremoto. \n",
    "\n",
    "#### Sismógrafo de Cecchi\n",
    "1875 fue un año de avance en la instrumentación. A Filippo Cecchi, físico, religioso e inventor italiano se le atribuye la creación del primer sismómetro que toma en cuenta la variable del tiempo además del desplazamiento del suelo.\n",
    "\n",
    "#### Sismógrafo de Milne\n",
    "Consta de un pilar de hierro perpendicular a una plataforma triangular , sostenida por medio de tres tornillos de nivel. El péndulo es una varilla ligera de aluminio de 1m de longitud, la cual termina en el extremo opuesto a la masa por un espigón de ágata, por donde se apoya sobre una punta de acero que sirve de pivote, atornillada en el pilar de hierro. La masa (alrededor de 1kg) soportada por medio de un alambre de acero, cuyo otro extremo va a la parte superior del pilar. La masa no esta rígidamente unida al péndulo, por lo que se puede reducir el momento de inercia del mismo.\n",
    "El ajuste consiste en hacer que el péndulo ocupe una posición horizontal y a lo largo de un linea previamente indicada. Uno de los tornillos de nivel tiene un paso de O,5mm y esta provisto de un indice que se desplaza sobre una graduación, con lo que es posible dar al aparato una inclinación. El registro tiene lugar de la manera siguiente: el brazo del pendulo lleva una plancha de aluminio colocada transversalmente al péndulo, y en el que hay una rendija horizontal; delante de ésta hay otra rendija vertical practicada en la caja del aparato. Un rayo de luz enviado desde la parte superior, después de pasar a través de las dos rendijas, será interceptado por el papel sensible colocado sobre el cilindro.\n",
    "\n",
    "#### Sismógrafo Wiechert\n",
    "En 1898, el científico alemán Emil Wiechert desarrolla el primer sismógrafo con amortiguamiento viscoso, esto permite observar las ondas propagadas sin que le instrumento se sature, dando como resultado un buen registro de los sismos en toda su duración.\n",
    "\n",
    "#### Sismómetro mecánico Bosch-Omori\n",
    "Sismómetro que mide el movimiento paralelo a la superficie, basado en péndulos horizontales que graban un registro sobre una bobina rotatoria. Este sismómetro es el primero en México, su llegada fue en 1904 y se encuentra actualmente en el museo de Tacubaya.\n",
    "\n",
    "#### Sismómetro electromagnético\n",
    "Por su parte el científico ruso Boris Galitzen desarrolla,en 1906, el primer sismógrafo electromagnético. El movimiento de la masa del péndulo hacía oscilar una bobina en el campo magnético de un imán fijo, generando una corriente proporcional a la velocidad del movimiento del suelo. El registro se efectuaba sobre papel fotográfico mediante un haz de luz que provenía de un galvanómetro, llegando a obtener amplificaciones del orden de 1.000 veces para períodos de 12 segundos.\n",
    "\n",
    "#### Sismómetro de banda ancha\n",
    "La mayoría de los sensores sísmicos actuales utilizan el sistema de fuerza de retroalimentación o sistemas de fuerza balanceada. Este sistema consiste de un circuito de retroalimentación negativo, el cual ejerce una fuerza proporcional al desplazamiento de la masa inercial para cancelar el movimiento relativo. Un transductor eléctrico convierte el movimiento de la masa en una señal eléctrica, la cual es una estimacion de la fuerza de retroalimentación que debe ejercerse para anular el movimiento. La cantidad de fuerza que se debe ejercer para anular el movimiento del péndulo corresponde a la aceleración del suelo. Este sistema permite extender el ancho de banda y la linealidad de los sismómetros, porque no permite grandes movimientos de la masa que doblen los resortes o los niveles. La señal de salida de estos sistemas poseeun gran rango dinámico debido a que los transductores electromagnéticos tienen un amplio rango dinámico.\n",
    "\n",
    "#### Acelerómetro\n",
    "Es el dispositivo que registra la aceleración del terreno y lo hace de manera automática, solamente cuando la aceleración excede un límite prefijado (comúnmente 0.01 g)."
   ]
  },
  {
   "cell_type": "raw",
   "metadata": {},
   "source": [
    "Referencias:\n",
    "\n",
    "SAUTER F.: “Fundamentos de Ingeniería Sísmica: Introducción a la Sismología”. Editorial\n",
    "Tecnológica de Costa Rica (2007).\n",
    "\n",
    "Wallace, T., Paquette, A., Hall-Wallace. Poster \"History of Seismology\". "
   ]
  },
  {
   "cell_type": "code",
   "execution_count": null,
   "metadata": {
    "collapsed": true
   },
   "outputs": [],
   "source": []
  }
 ],
 "metadata": {
  "kernelspec": {
   "display_name": "Python 3",
   "language": "python",
   "name": "python3"
  },
  "language_info": {
   "codemirror_mode": {
    "name": "ipython",
    "version": 3
   },
   "file_extension": ".py",
   "mimetype": "text/x-python",
   "name": "python",
   "nbconvert_exporter": "python",
   "pygments_lexer": "ipython3",
   "version": "3.6.3"
  }
 },
 "nbformat": 4,
 "nbformat_minor": 2
}
