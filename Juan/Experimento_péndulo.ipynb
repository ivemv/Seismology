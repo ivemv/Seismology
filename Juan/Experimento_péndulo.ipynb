{
 "cells": [
  {
   "cell_type": "markdown",
   "metadata": {},
   "source": [
    "## Experimento: movimiento pendular\n",
    "\n",
    "Ibarra Morales Juan  \n",
    "Sismología I  \n",
    "Marzo 6, 2018\n",
    "\n",
    "Basados en la fórmula general para describir el periodo de un péndulo vertical simple:\n",
    "\n",
    "$T={2\\pi}\\sqrt{\\frac{l}{g}}$\n",
    "\n",
    "Donde T es el periodo medido cuando la masa pasa dos veces por el mismo punto, describiendo un ciclo completo, l es la longitud en metros de la cuerda y g es la aceleración de la gravedad.\n",
    "\n",
    "Viendo esta relación notamos que es despreciable la masa que sea suspendida así como la altura inicial con la que el péndulo inicie el movimiento, esto debido a que mayor sea la altura mayor será la velocidad de movimiento de la masa.\n",
    "\n",
    "\n",
    "Para realizar el experimento se realizaron tres péndulos de longitudes: 10 cm, 30 cm y 50 cm.\n",
    "Dado que los periodos para estas longitudes son muy cortos se tomó el tiempo en el que completaban 10 periodos y al final ese valor era dividido entre 10, este procedimiento fue realizado cinco veces para cada una de las longitudes. Se realizó un promedio entre los valores obtenidos para obtener un solo valor experimental y finalmente se comparó contra el valor teórico para el cual se consideró la aceleración gravitatoria como 9.81 m/s². Se desprecian los errores humanos como la reacción al iniciar o detener el cronómetro.\n",
    "\n",
    "La siguiente tabla contiene los tiempos obtenidos del experimento:\n",
    "\n",
    "Longitud (m) || 1 | 2 | 3 | 4 | 5 | Promedio (s) | Valor Teórico (s) | Dif. porcentual |\n",
    "--|--|--|--|--|--|\n",
    ".10||0.72 |0.68|0.70|0.69|0.71|0.70|0.72|-2.77%\n",
    ".30||1.16|1.13|1.11|1.14|1.09|1.12|1.09|+0.02%\n",
    ".50||1.45|1.38|1.40|1.38|1.39|1.40|1.41|+0.01%"
   ]
  },
  {
   "cell_type": "code",
   "execution_count": null,
   "metadata": {
    "collapsed": true
   },
   "outputs": [],
   "source": []
  }
 ],
 "metadata": {
  "kernelspec": {
   "display_name": "Python 3",
   "language": "python",
   "name": "python3"
  },
  "language_info": {
   "codemirror_mode": {
    "name": "ipython",
    "version": 3
   },
   "file_extension": ".py",
   "mimetype": "text/x-python",
   "name": "python",
   "nbconvert_exporter": "python",
   "pygments_lexer": "ipython3",
   "version": "3.6.3"
  }
 },
 "nbformat": 4,
 "nbformat_minor": 2
}
