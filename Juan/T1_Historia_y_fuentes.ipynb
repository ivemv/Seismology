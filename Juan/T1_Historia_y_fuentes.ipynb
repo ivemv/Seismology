{
 "cells": [
  {
   "cell_type": "markdown",
   "metadata": {},
   "source": [
    "# Tarea 1: Historia de la sismología moderna y fuentes sísmicas\n",
    "\n",
    "Ibarra Morales Juan  \n",
    "Sismología I  \n",
    "Febrero 2018"
   ]
  },
  {
   "cell_type": "markdown",
   "metadata": {},
   "source": [
    "### Historia de la sismología moderna\n",
    "\n"
   ]
  },
  {
   "cell_type": "markdown",
   "metadata": {},
   "source": [
    "En 1676 Robert Hooke publica el tratado de \"La Verdadera Teoría de la Elasticidad\" donde describe la deformación proporcional que presentan los cuerpos ante un esfuerzo, este postulado junto con las aportaciones a la teoría de la propagación de ondas elásticas de científicos como Navier, Poisson, Cauchy, Stokes, Rayleigh son la primera base matemática de la Sismología moderna.  \n",
    "Un evento importante que favoreció el interés en el desarollo de la investigación sismológica fue el terremoto de Lisboa de 1755 que provocó la caida de diversos edificios y un tsunami que inundó la planicie del río Tajo. John Michell publicó un ensayo titulado \"Conjectures concerning the Cause and Observations upon the Phaenomena of Earthquakes\" donde de entre varias propuestas, sugiere que las ondas sísmicas eran provenientes de fuentes distantes y se propagaban por la Tierra como las ondas sonoras. \n",
    "\n",
    "El nacimiento de la palabra sismología llegó con Robert Mallet, quien además realizó un catálogo y el primer mapa de distribución sismica mundial, el primer mapa de isosistas (zonas de intensidad sísmica igual con daños estructurales similares) a raíz del terremoto de Nápoles de 1857 y estudió velocidades de las ondas dependiendo del tipo de roca.  \n",
    "\n",
    "1875 fue un año de avance en la instrumentación. A Filippo Cecchi, físico, religioso e inventor italiano se le atribuye la creación del primer sismómetro que toma en cuenta la variable del tiempo además del desplazamiento del suelo. Por otra parte, John Milne se muda a Japón para ejercer como catedrático de Geología en la Universidad Imperial de Tokio, Milne impulsó el desarrollo del Servicio Geológico Japonés y la primera red sismica mundial, diseñó la primera tabla de teimpos de arribo de las ondas sísmicas y diversos sismómetros.\n",
    "\n",
    "Con el avance en la instrumentación se logro observar el primer telesismo, cuyo epicentro se ubicó en Japón, en el observatorio de Postdam, Alemania hasta 1889. En 1897 es colocado el primer sismógrafo en Norteamérica, en el Observatorio Lick, San José, CA.  \n",
    "El terremoto de San Francisco de 1906, cuya ruptura fue estimada en 400 km y además de los edificios destruidos se caracterizó por los incendios descontrolados posteriores, el estado de California nombró un grupo de estudio a cargo de Harry Reid y Grove Gilbert, esto condujo a la formulación de la teoría del rebote elástico que propone que las vibraciones se dan por la liberación de energía elástica acumulada por la deformación en las rocas al romperse y volver a un estado de equilibrio. En este año, el ruso Boris Golitsyn inventó el primer sismógrafo electromagnético.\n",
    "\n",
    "En 1909 el croata Andrija Mohorovicic da cuenta de la interface corteza-manto al observar que al atravesar este límite en dirección al centro terrestre las ondas se aceleran. Beno Gutenberg por su parte, en 1912, demostró la discontinuidad entre el manto y el núcleo externo a 2900 km de profundidad gracias a la observación de la disminución de las velocidades de la onda P y a la ausencia de ondas S directas en cierta región del planeta.\n",
    "A principios de la década de 1930, la científica danesa Inge Lehmann postuló que a una profundidad de 5155 km se encontraba un material sólido (núcleo interno) con velocidades de ondas muy altas, todo esto con base en tiempos de llegada de las fases en sismos lejanos.\n",
    "\n",
    "Charles Richter, en 1935, da un salto al proponer una medida para el tamaño de los sismos independiente de las intensidades que está basada en las amplitudes máximas registradas en la traza y la distancia al epicentro. Esta escala actualmente sólo se aplica a la región Sur de California pero es la base para otras escalas de magnitudes actuales.\n",
    "\n",
    "En 1939 Jeffreys y Bullen compilaron los tiempos de viaje de cientos de arribos de ondas sísmicas y a partir de ellas desarrollaron curvas de tiempos de viaje para la Tierra, desde la superficie hasta el centro. Estas tablas predicen los tiempos de arribo de ondas telesísmicas P a cualquier punto en la superficie de la Tierra.\n",
    "\n",
    "El terremoto más grande registrado instrumentalmente ocurrió el 22 de mayo de 1960 en el sur de Chile, tuvo una magnitud de 9.5 y dada la longitud de la ruptura y el desplazamiento pudieron observarse las oscilaciones libres terrestres, vibraciones que afectan a todo el planeta.\n",
    "\n",
    "J. Tuzo Wilson comparte en 1965 el descubrimiento de las fallas transformantes que conectan a dorsales y zonas de subducción.\n",
    "\n",
    "En 1981 Dziewonski y Anderson disenaron un modelo de velocidades (PREM, Preliminary Reference Earth Model) con el fin de ajustar un variado grupo de datos (oscilaciones libres, dispersion de ondas superficiales, tiempos de viaje de ondas de cuerpo y datos de masa, momento e inercia). Este modelo de velocidades proporciona ademas densidad y atenuacion en función de la profundidad. Los modelos actuales de la Tierra tienen valores que son razonablemente cercanos a los valores contenidos en PREM.\n",
    "\n",
    "En 1984 la organización IRIS \"Incorporated Research Institutions for Seismology\" se funda con apoyo de la Fundación Nacional de Ciencia de Estados Unidos, es un consorcio de más de 100 universidades estadounidenses dedicado a la adqusición, manejo y distribución de información sismológica para servir a la educación, investigación, mitigación de desastres y monitoreo de pruebas nucleares. \n",
    "\n",
    "En la actualidad por medio del mapeo InSAR que proporciona información precisa de las elevaciones se pueden comparar dos imágenes para visualizar las deformaciones producidas después de un sismo. El monitoreo se puede realizar en tiempo real permitiendo un cálculo estimado de los parámetros del evento y la generación de mapas de intensidad en poco tiempo."
   ]
  },
  {
   "cell_type": "raw",
   "metadata": {},
   "source": [
    "Referencias:\n",
    "\n",
    "Shearer, Peter. M. (2009). Introduction to Seismology. 2nd Edition. Cambridge University Press.\n",
    "\n",
    "Wallace, T., Paquette, A., Hall-Wallace. Poster \"History of Seismology\". \n",
    "\n",
    "About IRIS. 2018. [En línea]. Consultado el 10/02/18. Disponible en: http://www.iris.edu/hq/about_iris#vision\n"
   ]
  },
  {
   "cell_type": "markdown",
   "metadata": {},
   "source": [
    "## Tipos de fuentes sísmicas\n",
    "\n",
    "Fuentes tectónicas causadas por el movimiento de las placas, pueden ser de tipo interplaca donde se asocian a fricción entre placas o intraplaca, asociados a esfuerzos y deformaciones lejanos al límite de la placa.\n",
    "\n",
    "Fuentes volcánicas de las que existen cuatro tipos de fuentes sísmicas asociadas con la actividad volcánica: llamamos sismo volcánico tipo A a los sismos generalmente pequeños (M<6) que ocurren a profundidades de menores de 20 km bajo los volcanes, y usualmente en forma de enjambres, estos eventos presentan altas frecuencias y el comienzo de los registros de estos en los sismogramas es súbito y abrupto. Los sismos volcánicos tipo B ocurren por lo general en, o cerca de los cráteres activos; son muy someros y de magnitudes muy pequeñas, presentando arribos graduales y emergentes. Los tremores volcánico, caracterizados por la llegada de formas de onda de manera persistente o sostenida en el tiempo.  El tremor refleja una vibración continua del suelo o pequeños movimientos muy frecuentes cuyas ondas se superponen.\n",
    "\n",
    "Fuentes de impacto, asociada a caidas de meteoritos o golpes sobre la superficie terrestre inducidos, ejemplo camiones golpeadores.\n",
    "\n",
    "Deslizamientos: enormes deslizamientos han generado sismos en diferentes regiones del planeta; por ejemplo, el 25 de abril de 1975 un deslizamiento gigantesco a lo largo del río Mantaro en Perú generó un sismo de magnitud intermedia; el deslizamiento de millones de m³ viajó pendiente abajo una distancia de 7 km a una velocidad de 140 km/h lo que generó un sismo de más de 3 min de duración. También en el Pamir ruso, el príncipe Galitzin, quien era un inventor de sismógrafos, pudo registrar en 1911 las ondas provenientes del, tal vez, más grande deslizamiento de la historia moderna generado por un temblor en la Tierra.\n",
    "\n",
    "Explosiones, de fuentes nucleares principalmente.\n",
    "Colapsos de gran tamaño, generados por la formación de dolinas."
   ]
  },
  {
   "cell_type": "code",
   "execution_count": null,
   "metadata": {
    "collapsed": true
   },
   "outputs": [],
   "source": []
  }
 ],
 "metadata": {
  "kernelspec": {
   "display_name": "Julia 0.4.5",
   "language": "julia",
   "name": "julia-0.4"
  },
  "language_info": {
   "file_extension": ".jl",
   "mimetype": "application/julia",
   "name": "julia",
   "version": "0.4.5"
  }
 },
 "nbformat": 4,
 "nbformat_minor": 2
}
