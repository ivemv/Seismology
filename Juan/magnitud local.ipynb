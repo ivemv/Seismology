{
 "cells": [
  {
   "cell_type": "code",
   "execution_count": 1,
   "metadata": {
    "collapsed": true
   },
   "outputs": [],
   "source": [
    "using PyPlot"
   ]
  },
  {
   "cell_type": "markdown",
   "metadata": {},
   "source": [
    "## Cálculo de magnitud local para la región del Bajío, México.\n",
    "Marzo 21,2018\n",
    "\n",
    "El presente trabajo consiste en establecer una relación que permita estimar magnitudes locales mediante amplitudes registradas. \n",
    "\n",
    "Richter (1935) definió la magnitud de un sismo como:   \n",
    "\n",
    " $ M_l= log A - log A_0$\n",
    " \n",
    " Donde A es la amplitud máxima registrada en mm y $A_0$ es la amplitud  máxima que registraría un sismómetro si un sismo de Magnitud 0 ocurriera a una distancia similar a la que ocurrió A, en el caso de California a los 100 km corresponde a 1 mm. Es importante mencionar que este cálculo esta hecho con base en los parámetros del sismómetro Wood-Anderson, y que además influyen otros factores como la dispersión geométrica y la atenuación que en este caso no serán tomados en cuenta. Con esta relación podemos notar que cuanto menores sean las amplitudes registradas menor será también la magnitud. $A_0$ es el parámetro que es dependiente de la distancia al epicentro y de la geología que define como serán las amplitudes para cierta región.\n",
    " \n",
    "\n",
    "Para este estudio se usaron 32 eventos registrados entre el 05/05 y el 23/06 del 2011 en las estaciones XXXX (agregar nombres y coordenadas y tipo de equipos). El análisis de las señales fue realizado en el programa SEISAN. Este programa permite quitar la respuesta instrumental de las trazas y convolucionarlas con la del sismómetro WA para obtener directamente las amplitudes máximas necesarias para el cálculo, siguiendo la metodología descrita por Richter (1935) la amplitud máxima usada para la regresión lineal es el promedio de las amplitudes máximas medidas en las dos componentes horizontales. Para el cálculo del epicentro a la estación se tomo en cuenta el intevalo S-P en segundos multiplicandolo por un factor de 8 para obtener la distancia en km.\n"
   ]
  },
  {
   "cell_type": "code",
   "execution_count": 2,
   "metadata": {
    "scrolled": true
   },
   "outputs": [
    {
     "data": {
      "text/plain": [
       "32-element Array{Float64,1}:\n",
       " 32.8 \n",
       "  8.0 \n",
       " 14.4 \n",
       " 10.4 \n",
       " 33.6 \n",
       " 29.6 \n",
       "  7.76\n",
       "  8.8 \n",
       "  9.6 \n",
       "  6.4 \n",
       "  3.2 \n",
       "  8.0 \n",
       "  4.8 \n",
       "  ⋮   \n",
       " 19.2 \n",
       "  8.0 \n",
       " 11.2 \n",
       " 22.4 \n",
       " 21.6 \n",
       " 19.2 \n",
       " 36.8 \n",
       " 19.2 \n",
       " 20.0 \n",
       " 20.0 \n",
       " 12.0 \n",
       " 36.8 "
      ]
     },
     "execution_count": 2,
     "metadata": {},
     "output_type": "execute_result"
    }
   ],
   "source": [
    "tabla=readdlm(\"amplitudes.txt\",skipstart=1)\n",
    "logam=tabla[:,8]\n",
    "dist=tabla[:,10]"
   ]
  },
  {
   "cell_type": "code",
   "execution_count": 21,
   "metadata": {},
   "outputs": [
    {
     "name": "stdout",
     "output_type": "stream",
     "text": [
      "46.39529379999999\n"
     ]
    }
   ],
   "source": [
    "##Regresión lineal y=mx+b\n",
    "\n",
    "#n=32\n",
    "sumx=sum(logam)\n",
    "sumy=sum(dist)\n",
    "sumxy=sum(logam.*dist)\n",
    "sumx2=sum(logam.*logam)\n",
    "\n",
    "println(sumx)"
   ]
  },
  {
   "cell_type": "code",
   "execution_count": 27,
   "metadata": {},
   "outputs": [
    {
     "name": "stdout",
     "output_type": "stream",
     "text": [
      "-0.4163333530241562\n",
      "20.04612213225921\n"
     ]
    }
   ],
   "source": [
    "m=((32*sumxy)-(sumx*sumy))/((32sumx2)-(sumx*sumx))\n",
    "\n",
    "b=(sumy-(m*sumx))/(32)\n",
    "\n",
    "y=m.*dist + b\n",
    "\n",
    "println(m)\n",
    "println(b)"
   ]
  },
  {
   "cell_type": "code",
   "execution_count": 10,
   "metadata": {},
   "outputs": [
    {
     "data": {
      "image/png": "[encoded data removed]",
      "text/plain": [
       "PyPlot.Figure(PyObject <matplotlib.figure.Figure object at 0x0000000003387518>)"
      ]
     },
     "metadata": {},
     "output_type": "display_data"
    },
    {
     "data": {
      "text/plain": [
       "1-element Array{Any,1}:\n",
       " PyObject <matplotlib.lines.Line2D object at 0x00000000033D1C18>"
      ]
     },
     "execution_count": 10,
     "metadata": {},
     "output_type": "execute_result"
    }
   ],
   "source": [
    "plot(dist,logam, \"o\")\n",
    "ylabel(\"Log A0\")\n",
    "\n",
    "title(\"Distancia vs. Log A0\")\n",
    "plot(dist,y)\n"
   ]
  },
  {
   "cell_type": "markdown",
   "metadata": {},
   "source": [
    "La regresión lineal nos devuelve una ecuación cuya fórmula es:  \n",
    "\n",
    " $log A_0 = -0.4163 (dist) + 20.04 $\n",
    " \n",
    "Sustituyendo en la ecuación propuesta por Richter obtenemos que la magnitud local para la región del Bajío:\n",
    "\n",
    "$M_l = log A + 0.4163(dist) -20.04 $\n",
    "\n",
    "Donde A es la amplitud máxima registrada y y dist es la distancia del epicentro a la estación en km.\n"
   ]
  },
  {
   "cell_type": "raw",
   "metadata": {},
   "source": [
    "Referencias:\n",
    "Michel-Leiba, M., Malafant, K. (1992) BMR Journal of Aunstralian Geology and Geophysics. 13, 201-205.\n",
    "Richter (1935). Bulltein of the Seismological Society of America . 25-1. \n"
   ]
  }
 ],
 "metadata": {
  "kernelspec": {
   "display_name": "Julia 0.5.1",
   "language": "julia",
   "name": "julia-0.5"
  },
  "language_info": {
   "file_extension": ".jl",
   "mimetype": "application/julia",
   "name": "julia",
   "version": "0.5.1"
  }
 },
 "nbformat": 4,
 "nbformat_minor": 2
}
