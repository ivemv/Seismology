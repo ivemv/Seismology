{
 "cells": [
  {
   "cell_type": "markdown",
   "metadata": {},
   "source": [
    "# Cálculo de Magnitud local _${M}_L$_ en la zona del bajío Queretano"
   ]
  },
  {
   "cell_type": "markdown",
   "metadata": {},
   "source": [
    "### Ibarra Morales Juan\n",
    "### Martínez Valdés J. Ivonne"
   ]
  },
  {
   "cell_type": "markdown",
   "metadata": {},
   "source": [
    "## Magnitud Local"
   ]
  },
  {
   "cell_type": "markdown",
   "metadata": {},
   "source": [
    "### La magnitud sísmica es una medida cuantitativa que hace referencia a la energía liberada por un sismo y puede ser calculada através de diferentes relaciones con datos que proporciona el registro sísmico"
   ]
  },
  {
   "cell_type": "markdown",
   "metadata": {},
   "source": [
    "## Sismicidad Intraplaca\n",
    "### La sismicidad intraplaca es caracterizada por eventos que ocurren cientos de kilómetros alejados de las regiones de márgenes activos (trincheras), la fuente de acumulación de esfuerzos tiene lugar en la deformación tectónica regional, las zonas de debilidad, competitividad geológica y distribución de esfuerzos. Si bien, la sismicidad intraplaca representa una minoría de eventos "
   ]
  },
  {
   "cell_type": "markdown",
   "metadata": {},
   "source": [
    "## Zona de estudio\n",
    "### La zona de estudio comprende el sector septentrional del estado de Querétaro compuesto por la provincia fisiográfica Sierra Madre Oriental (SMOr) o regionalmente ? llamada _Sierra Gorda_, ésta zona está caracterizada por geología jurásica deformada en el cretácico, ésta geología corresponde a depósitos sedimentarios de ambiente marino somero asociados a la apertura del Golfo de México y a la posterior transgresión marina del Oxfordiano (_Eguiluz et al., 2000_). Históricamente, no se "
   ]
  },
  {
   "cell_type": "markdown",
   "metadata": {},
   "source": [
    "![][img]\n",
    "[img]: baj.jpg \"Zona del Bajío Mexicano, Fuente: Conadeip\"\n",
    "\n",
    "![][img1]\n",
    "[img1]: qpf.jpg \"Provincias fisiográficas en el estado de Querétaro, Fuente: INEGI\""
   ]
  },
  {
   "cell_type": "code",
   "execution_count": null,
   "metadata": {},
   "outputs": [],
   "source": []
  }
 ],
 "metadata": {
  "kernelspec": {
   "display_name": "Julia 0.6.2",
   "language": "julia",
   "name": "julia-0.6"
  },
  "language_info": {
   "file_extension": ".jl",
   "mimetype": "application/julia",
   "name": "julia",
   "version": "0.6.2"
  }
 },
 "nbformat": 4,
 "nbformat_minor": 2
}
