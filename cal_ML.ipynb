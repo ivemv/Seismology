{
 "cells": [
  {
   "cell_type": "markdown",
   "metadata": {},
   "source": [
    "# Cálculo de Magnitud local _${M}_L$_ en la zona del bajío Queretano"
   ]
  },
  {
   "cell_type": "markdown",
   "metadata": {},
   "source": [
    "### Ibarra Morales Juan\n",
    "### Martínez Valdés J. Ivonne"
   ]
  },
  {
   "cell_type": "markdown",
   "metadata": {},
   "source": [
    "## Magnitud Local"
   ]
  },
  {
   "cell_type": "markdown",
   "metadata": {},
   "source": [
    "### La magnitud sísmica es una medida cuantitativa que hace referencia a la energía liberada por un sismo y puede ser calculada através de diferentes relaciones con datos que proporciona el registro sísmico. La necesidad de conocer el tamaño de los sismos a partir de datos obtenidos a distancias cortas e intermedias de la fuente, ha permitido a muchos autores proponer diferentes técnicas y metodologías para el cálculo de ${M}_L$ (Magnitud Local) utilizando registros de velocidad y aceleración (_Cahuari y Tavera 2007_) .\n",
    "### En 1935 Charles Richter implementó la primera escala de magnitud sísmica: **magnitud de Richter o local** ( ${M}_L$).  Es una medida del tamaño de un terremoto, determinada para períodos cortos y a distancias relativamente pequeñas, a partir de registros de un sismógrafo de torsión Wood-Anderson<sup>[6]</sup>, su idea básica era bastante simple: conociendo la distancia desde un sismógrafo hasta un terremoto y observando la máxima amplitud de señal registrada en el sismógrafo, se podía hacer una clasificación cuantitativa empírica del tamaño o la fuerza inherente del terremoto. Richter sugería que la froma correcta del cálculo de la ${M}_L$ era através de un promedio de las magnitudes calculadas por separado para las tres componentes de la estación siguiendo la misma metodología, incluso promediando cálculos entre estaciones para obtener mayor cobertura. La mayoría de los terremotos de California ocurren dentro de los primeros 16 km de la corteza; para una primera aproximación, las correcciones para las variaciones en la profundidad focal del terremoto fueron, por lo tanto, innecesarias.<sup>[6]</sup>. La ${M}_L$ se calcula como:\n",
    "$ {M}_L = {log}_{10} ({A}_0) - {log}_{10}({A}_1(\\Delta) $ (Richter, 1935, 1958)\n",
    "\n",
    "#### Donde:\n",
    "### A es la mayor amplitud de la onda (de cuerpo o superficial) medida en milímetros\n",
    "### ${A}_0$ es el factor de amplitud deducido empíricamente y dependiente de la distancia para un terremoto particular tomado como «terremoto patrón»<sup>[2]</sup>.\n"
   ]
  },
  {
   "cell_type": "markdown",
   "metadata": {},
   "source": [
    "## Sismicidad Intraplaca\n",
    "### La sismicidad intraplaca es caracterizada por eventos que ocurren cientos de kilómetros alejados de las regiones de márgenes activos (trincheras), la fuente de acumulación de esfuerzos tiene lugar en la deformación tectónica regional, las zonas de debilidad, competitividad geológica y distribución de esfuerzos. Si bien, la sismicidad intraplaca representa la minoría de eventos sísmicos (tectónicos) se han documentado eventos con magnitudes de 6 y 7 (Nuevo Madrid, EUA 1812) que representan un peligro latente para las comunidades afin.\n",
    "# ¿ponemos más o ésto no?"
   ]
  },
  {
   "cell_type": "markdown",
   "metadata": {},
   "source": [
    "## Zona de estudio\n",
    "### La zona de estudio comprende el sector septentrional del estado de Querétaro compuesto por la provincia fisiográfica Sierra Madre Oriental (SMOr) o regionalmente ? llamada _Sierra Gorda_, ésta zona está caracterizada por geología jurásica deformada en el cretácico, ésta geología corresponde a depósitos sedimentarios de ambiente marino somero asociados a la apertura del Golfo de México y a la posterior transgresión marina del Oxfordiano (_Eguiluz et al., 2000_). Históricamente, se han registrado una par de sismos de intensidad fuerte en las regiones de Sanfandila (1998), Huimilpan (2001) y Arroyo Seco (2002) (Zúñiga et al. 2003) que claramete, corresponden a eventos intraplaca."
   ]
  },
  {
   "cell_type": "markdown",
   "metadata": {},
   "source": [
    "![][img]\n",
    "[img]: baj.jpg \"Zona del Bajío Mexicano, Fuente: Conadeip\"\n",
    "\n",
    "![][img1]\n",
    "[img1]: qpf.jpg \"Provincias fisiográficas en el estado de Querétaro, Fuente: INEGI\""
   ]
  },
  {
   "cell_type": "markdown",
   "metadata": {},
   "source": [
    "# Datos\n",
    "### Se analizaron 39 eventos del año 2011 registrados por las estaciones ????, con geófonos GBV-316 de 4.5Hz marca GeoSig, procesados en Seisan para la conversión a unidades físicas, se tomaron datos de amplitud en nanómetros y tiempos S-P en segundos. Se realizó la transformación de las amplitudes a milímetros para hacer uso de la relación (ecuación descrita en magnitud local) y de los valores teóricos de A1 (fuente). A continuación se muestran los datos y el procedimiento de cálculo de ${M}_L$ :"
   ]
  },
  {
   "cell_type": "code",
   "execution_count": null,
   "metadata": {},
   "outputs": [],
   "source": [
    "¿pones un ss de seisan?"
   ]
  },
  {
   "cell_type": "code",
   "execution_count": 1,
   "metadata": {},
   "outputs": [],
   "source": [
    "#córrelo plx\n",
    "using PyPlot"
   ]
  },
  {
   "cell_type": "code",
   "execution_count": 2,
   "metadata": {},
   "outputs": [],
   "source": [
    "#Distancia epicentral en km\n",
    "distep = [32.8,8,14.4,10.4,33.6,29.6,7.76,8.8,9.6,6.4,3.2,\n",
    "    8,4.8,23.2,33.6,20,51.2,20,25.6,24.8,19.2,8,11.2,22.4,21.6,19.2,36.8,19.2,20,20,12,36.8,\n",
    "    23.2,8.8,13.6,8.8,7.2,10.4,20];"
   ]
  },
  {
   "cell_type": "code",
   "execution_count": 3,
   "metadata": {},
   "outputs": [],
   "source": [
    "# A = Promedio de amplitudes máxima y de la envolvente en mm\n",
    "logA = [-5.903089987,-5.8538719643,-5.7447274949,-3.7488486568,-3.9649707178,-4.0414361168,-2.7572350222,\n",
    "-4.208309351,-4.8696662315,-4.5816987087,-4.4596705252,-4.276544328,-4.1232050238,-3.4934949676,\n",
    "-4.5917600347,-4.2636034977,-4.221125528,-4.9871627753,-4.7825160558,-5.6575773192,-5.2218487496,\n",
    "-5.017728767,-4.6126101737,-3.9863203027,-4.5376020021,-4.3260580014,-4.2328441339,-4.6575773192,\n",
    "-4.4467239539,-4.7772835289,-4.7495799977,-4.6073030467,-4.6957249495,-4.3840499483,-5.5228787453,\n",
    "-3.8821489271,-4.8680607048,-3.8973948059,-4.6871881738];"
   ]
  },
  {
   "cell_type": "code",
   "execution_count": 4,
   "metadata": {},
   "outputs": [],
   "source": [
    "#Datos obtenidos de: http://gfzpublic.gfz-potsdam.de/pubman/item/escidoc:43489/component/escidoc:56102/DS_3.1_rev1.pdf\n",
    "logA1 = [2.1,1.5,1.6,1.5,2.1,2.1,1.5,1.5,1.5,1.45,1.45,1.5,1.45,1.7,2.1,1.7,2.6,1.7,1.9,1.9,1.7,\n",
    "1.5,1.5,1.7,1.7,1.7,2.25,1.7,1.7,1.7,1.7,2.25,1.7,1.5,1.6,1.5,1.5,1.5,1.7];"
   ]
  },
  {
   "cell_type": "code",
   "execution_count": 5,
   "metadata": {},
   "outputs": [
    {
     "data": {
      "text/plain": [
       "(-4.518675597090485, -0.0019786773990017933)"
      ]
     },
     "execution_count": 5,
     "metadata": {},
     "output_type": "execute_result"
    }
   ],
   "source": [
    "a,b = linreg(distep,logA)"
   ]
  },
  {
   "cell_type": "code",
   "execution_count": 6,
   "metadata": {},
   "outputs": [],
   "source": [
    "y = a + b*distep;"
   ]
  },
  {
   "cell_type": "code",
   "execution_count": null,
   "metadata": {},
   "outputs": [],
   "source": [
    "#no sé si dejar ésto...\n",
    "er = sqrt(sum((logA-y).^2)/length(logA))"
   ]
  },
  {
   "cell_type": "code",
   "execution_count": null,
   "metadata": {},
   "outputs": [],
   "source": [
    "fig = figure(figsize=(14,6))\n",
    "plot(distep,logA,\"go\")\n",
    "xlabel(\"Distancia epicentral [km]\", fontsize=15)\n",
    "ylabel(\"logA0\", fontsize=13)\n",
    "title(\"Dist epic vs. LogA0\", fontsize=13)\n",
    "plot(distep, y, \"k--\")\n",
    "#plot(distep,logA,\"b-\")\n",
    "errorbar(distep,y, er)"
   ]
  },
  {
   "cell_type": "code",
   "execution_count": 13,
   "metadata": {},
   "outputs": [],
   "source": [
    "Ml = abs.(y-(-logA1));"
   ]
  },
  {
   "cell_type": "code",
   "execution_count": 14,
   "metadata": {},
   "outputs": [
    {
     "data": {
      "image/png": "[encoded data removed]",
      "text/plain": [
       "PyPlot.Figure(PyObject <matplotlib.figure.Figure object at 0x7f49d53cc5f8>)"
      ]
     },
     "metadata": {},
     "output_type": "display_data"
    },
    {
     "data": {
      "text/plain": [
       "PyObject Text(0.5,1,'Distancia epicentral vs. Ml')"
      ]
     },
     "execution_count": 14,
     "metadata": {},
     "output_type": "execute_result"
    }
   ],
   "source": [
    "fig = figure(figsize=(14,6))\n",
    "plot(distep,Ml,\"go\")\n",
    "xlabel(\"Distancia Epicentral\",fontsize=15)\n",
    "ylabel(\"Magnitud Local\", fontsize=13)\n",
    "title(\"Distancia epicentral vs. Ml\", fontsize=13)"
   ]
  },
  {
   "cell_type": "code",
   "execution_count": null,
   "metadata": {},
   "outputs": [],
   "source": [
    "fig = figure(figsize=(14,6))\n",
    "plot(distep,logA1,\"bo\")\n",
    "xlabel(\"Distancia epicentral [km]\", fontsize=15)\n",
    "ylabel(\"Log A1\", fontsize=13)\n",
    "title(\"Distancia epicentral vs LogA1\", fontsize=13)"
   ]
  },
  {
   "cell_type": "markdown",
   "metadata": {},
   "source": [
    "## Bibliografía\n",
    "+ Cahuari, A., y Tavera, H. (2007) _Cálculo de la Magnitud Local (ML) a partir de registros de aceleración: Aplicción a sismos ocurridos en Perú._ Bol. Soc. geol. Perú 102: 117-126\n",
    "+ [2] Espinosa, A. (s/f) _5.Determinación de la magnitud Local ${M}_L$ a partir de acelerogramas de movimientos fuertes en el suelo._ USGS, Denver, Colorado.\n",
    "+ [6] USGS _Measuring the size of an Earthquake_ Disponible: https://earthquake.usgs.gov/learn/topics/measure.php Consultado: 01/03/18"
   ]
  },
  {
   "cell_type": "code",
   "execution_count": null,
   "metadata": {},
   "outputs": [],
   "source": []
  }
 ],
 "metadata": {
  "kernelspec": {
   "display_name": "Julia 0.6.2",
   "language": "julia",
   "name": "julia-0.6"
  },
  "language_info": {
   "file_extension": ".jl",
   "mimetype": "application/julia",
   "name": "julia",
   "version": "0.6.2"
  }
 },
 "nbformat": 4,
 "nbformat_minor": 2
}
